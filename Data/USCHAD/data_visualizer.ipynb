{
 "cells": [
  {
   "cell_type": "code",
   "execution_count": null,
   "metadata": {},
   "outputs": [],
   "source": [
    "import numpy as np\n",
    "from pathlib import Path\n",
    "import re\n",
    "import scipy.io as sio "
   ]
  },
  {
   "cell_type": "code",
   "execution_count": null,
   "metadata": {},
   "outputs": [],
   "source": [
    "sio.loadmat('USC-HAD/Subject10/a1t2.mat')['sensor_readings'].shape"
   ]
  },
  {
   "cell_type": "code",
   "execution_count": null,
   "metadata": {},
   "outputs": [],
   "source": [
    "def extract_label_from_filename(filename):\n",
    "    match = re.search(r'a(\\d+)t', filename)\n",
    "    if match:\n",
    "        return int(match.group(1))\n",
    "    return None\n",
    "\n",
    "p = Path('USC-HAD/Subject10/a1t2.mat')\n",
    "p.stem\n",
    "\n",
    "extract_label_from_filename(p.stem)"
   ]
  },
  {
   "cell_type": "code",
   "execution_count": null,
   "metadata": {},
   "outputs": [],
   "source": [
    "\n",
    "\n",
    "dir_uschad = Path('USC-HAD')\n",
    "max_length = -1\n",
    "\n",
    "def extract_label_from_filename(filename):\n",
    "    match = re.search(r'a(\\d+)t', filename)\n",
    "    if match:\n",
    "        return int(match.group(1))\n",
    "    return None\n",
    "\n",
    "X_irregular_length = []\n",
    "Y = []\n",
    "subject = []\n",
    "\n",
    "for file_path in dir_uschad.rglob('*.mat'):\n",
    "    data = sio.loadmat(file_path)['sensor_readings']\n",
    "    max_length = data.shape[0] if data.shape[0] > max_length else max_length\n",
    "    X_irregular_length.append(data)\n",
    "    Y.append(extract_label_from_filename(file_path.stem))\n"
   ]
  },
  {
   "cell_type": "code",
   "execution_count": null,
   "metadata": {},
   "outputs": [],
   "source": [
    "n_samples = len(X_irregular_length)\n",
    "n_ticks, n_directions = X_irregular_length[0].shape\n",
    "X = np.zeros([n_samples, max_length, n_directions])\n",
    "for i, x in enumerate(X_irregular_length):\n",
    "    sample_size = x.shape[0]\n",
    "    X[i, :sample_size, ...] = x"
   ]
  },
  {
   "cell_type": "code",
   "execution_count": null,
   "metadata": {},
   "outputs": [],
   "source": [
    "np.savez(\n",
    "    'USC-HAD.npz',\n",
    "    **{\n",
    "        'label_movement': Y,\n",
    "        'inertial_data': X,\n",
    "    }\n",
    ")"
   ]
  },
  {
   "cell_type": "code",
   "execution_count": null,
   "metadata": {},
   "outputs": [],
   "source": [
    "data = np.load('USC-HAD.npz')\n",
    "data = {key: data[key] for key in data}"
   ]
  },
  {
   "cell_type": "code",
   "execution_count": null,
   "metadata": {},
   "outputs": [],
   "source": [
    "data_sum = np.sum(np.absolute(data['inertial_data']), axis=1)\n",
    "\n",
    "import matplotlib.pyplot as plt\n",
    "\n",
    "fig, axs = plt.subplots(6, 1, figsize=(12, 10))\n",
    "\n",
    "for i in range(6):\n",
    "    max_value = np.max(data_sum[:, i])\n",
    "    axs[i].set_ylim(0, max_value)\n",
    "    axs[i].plot(data_sum[:, i])"
   ]
  },
  {
   "cell_type": "code",
   "execution_count": null,
   "metadata": {},
   "outputs": [],
   "source": [
    "data['inertial_data'].shape"
   ]
  }
 ],
 "metadata": {
  "kernelspec": {
   "display_name": "data-visualizer",
   "language": "python",
   "name": "python3"
  },
  "language_info": {
   "codemirror_mode": {
    "name": "ipython",
    "version": 3
   },
   "file_extension": ".py",
   "mimetype": "text/x-python",
   "name": "python",
   "nbconvert_exporter": "python",
   "pygments_lexer": "ipython3",
   "version": "3.9.18"
  }
 },
 "nbformat": 4,
 "nbformat_minor": 2
}
