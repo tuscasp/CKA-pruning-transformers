{
 "cells": [
  {
   "cell_type": "code",
   "execution_count": null,
   "metadata": {},
   "outputs": [],
   "source": [
    "import numpy as np"
   ]
  },
  {
   "cell_type": "code",
   "execution_count": null,
   "metadata": {},
   "outputs": [],
   "source": [
    "import os\n",
    "import numpy as np\n",
    "\n",
    "def load_time_series_dataset(data_dir):\n",
    "    X = []\n",
    "    Y = []\n",
    "    class_labels = {}  # Dictionary to keep track of class labels\n",
    "    current_label_idx = 0\n",
    "    \n",
    "    for class_idx, class_dir in enumerate(sorted(os.listdir(data_dir))):\n",
    "        class_path = os.path.join(data_dir, class_dir)\n",
    "        if (not os.path.isdir(class_path) or ('MODEL' in class_path)):\n",
    "            continue\n",
    "        \n",
    "        class_labels[class_dir] = current_label_idx\n",
    "        \n",
    "        for file in sorted(os.listdir(class_path)):\n",
    "            file_path = os.path.join(class_path, file)\n",
    "            \n",
    "            data = np.loadtxt(file_path, dtype=int)\n",
    "            X.append(data)\n",
    "            Y.append(current_label_idx)\n",
    "\n",
    "        current_label_idx += 1\n",
    "    \n",
    "    max_seq_length = max(len(seq) for seq in X)\n",
    "    max_seq_idx = np.argmax([len(seq) for seq in X])\n",
    "    X_padded = np.zeros([len(X), X[max_seq_idx].shape[0], X[max_seq_idx].shape[1]], dtype='int64')\n",
    "    \n",
    "    for i, seq in enumerate(X):\n",
    "        X_padded[i, :len(seq), ...] = seq        \n",
    "\n",
    "    # X_padded = np.array([np.pad(seq, (0, max_seq_length - len(seq)), 'constant') for seq in X])\n",
    "    Y = np.array(Y)\n",
    "    \n",
    "    return X_padded, Y, class_labels\n",
    "\n",
    "X, Y, labels = load_time_series_dataset('./HMP_Dataset')\n"
   ]
  },
  {
   "cell_type": "code",
   "execution_count": null,
   "metadata": {},
   "outputs": [],
   "source": [
    "print(labels)"
   ]
  },
  {
   "cell_type": "code",
   "execution_count": null,
   "metadata": {},
   "outputs": [],
   "source": [
    "import matplotlib.pyplot as plt\n",
    "\n",
    "plotted_idx = 120\n",
    "plt.plot(X[plotted_idx])"
   ]
  },
  {
   "cell_type": "code",
   "execution_count": null,
   "metadata": {},
   "outputs": [],
   "source": [
    "len(set(Y))"
   ]
  },
  {
   "cell_type": "code",
   "execution_count": null,
   "metadata": {},
   "outputs": [],
   "source": [
    "plt.hist(Y, bins=len(set(Y)))"
   ]
  },
  {
   "cell_type": "code",
   "execution_count": null,
   "metadata": {},
   "outputs": [],
   "source": [
    "np.savez(\n",
    "    'WHARF.npz',\n",
    "    **{\n",
    "        'label_movement': Y,\n",
    "        'inertial_data': X,\n",
    "    }\n",
    ")"
   ]
  }
 ],
 "metadata": {
  "kernelspec": {
   "display_name": "tf215",
   "language": "python",
   "name": "python3"
  },
  "language_info": {
   "codemirror_mode": {
    "name": "ipython",
    "version": 3
   },
   "file_extension": ".py",
   "mimetype": "text/x-python",
   "name": "python",
   "nbconvert_exporter": "python",
   "pygments_lexer": "ipython3",
   "version": "3.9.18"
  }
 },
 "nbformat": 4,
 "nbformat_minor": 2
}
